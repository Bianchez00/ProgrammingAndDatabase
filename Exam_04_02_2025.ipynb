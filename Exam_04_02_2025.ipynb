{
  "nbformat": 4,
  "nbformat_minor": 0,
  "metadata": {
    "colab": {
      "provenance": [],
      "include_colab_link": true
    },
    "kernelspec": {
      "name": "python3",
      "display_name": "Python 3"
    },
    "language_info": {
      "name": "python"
    }
  },
  "cells": [
    {
      "cell_type": "markdown",
      "metadata": {
        "id": "view-in-github",
        "colab_type": "text"
      },
      "source": [
        "<a href=\"https://colab.research.google.com/github/Bianchez00/ProgrammingAndDatabase/blob/main/Exam_04_02_2025.ipynb\" target=\"_parent\"><img src=\"https://colab.research.google.com/assets/colab-badge.svg\" alt=\"Open In Colab\"/></a>"
      ]
    },
    {
      "cell_type": "markdown",
      "source": [
        "**Ex 1**: Write a function that takes a list of strings in input and returns a new list that contains every first character of each of the strings contained in the input list.\n",
        "\n",
        "Do not use for or while loops for this.\n",
        "\n",
        "Assume that the input is always a list of strings.\n",
        "\n",
        "Example execution:\n",
        "\n",
        "```python\n",
        "ls = ['ab', 'cd', 'ef']\n",
        "fun(ls)\n",
        "```\n",
        "> ['a', 'c', 'e']"
      ],
      "metadata": {
        "id": "Nf52sT6jLwaa"
      }
    },
    {
      "cell_type": "code",
      "source": [
        "#your code here"
      ],
      "metadata": {
        "id": "5CmgoTGXOfBW"
      },
      "execution_count": null,
      "outputs": []
    },
    {
      "cell_type": "markdown",
      "source": [
        "**Ex 2**: Write a function that takes a list of integers as input and returns a list of all the odd integers if the input list contains at least one even integer. Otherwise, the function will return an empty list.\n",
        "\n",
        "Assume that the input is always a list of integers.\n",
        "\n",
        "Example execution:\n",
        "\n",
        "```python\n",
        "ls = [1, 2, 3, 4, 5, 6, 7]\n",
        "fun(ls)\n",
        "```\n",
        "> [1, 3, 5, 7]"
      ],
      "metadata": {
        "id": "mij9FY9BL3UI"
      }
    },
    {
      "cell_type": "code",
      "source": [
        "#your code here"
      ],
      "metadata": {
        "id": "Wi6RwAJaOg9N"
      },
      "execution_count": null,
      "outputs": []
    },
    {
      "cell_type": "markdown",
      "source": [
        "**Ex 3**: Write a function that takes a list of integers as input and outputs a list that contains all the odd numbers in the input list, multiplied by 2.\n",
        "\n",
        "Assume that the input is always a list of integers.    \n",
        "\n",
        "Example execution:\n",
        "\n",
        "```python\n",
        "ls = [1, 2, 3, 4, 5, 6]\n",
        "fun(ls)\n",
        "```\n",
        "> [2, 6, 10]"
      ],
      "metadata": {
        "id": "mLBjEXFPMivw"
      }
    },
    {
      "cell_type": "code",
      "source": [
        "#your code here"
      ],
      "metadata": {
        "id": "Ro7LUJZAOh7C"
      },
      "execution_count": null,
      "outputs": []
    },
    {
      "cell_type": "markdown",
      "source": [
        "**Ex 4**: Write the definition of an object “Supermarket” that describes a specific supermarket. The attributes of this object will be 1. Its name, 2. Its location and 3. Its size (an integer that represents square meters). It will take these 3 attributes as input for the initialization of the object instance.\n",
        "\n",
        "Two instances of the object “Supermarket” should be equal if they have the same name and location.\n",
        "\n",
        "Bonus: write a method that allows the user to increase the size of the supermarket by a set amount.\n",
        "\n",
        "Example execution:\n",
        "\n",
        "```python\n",
        "obj_1 = Supermarket('Migross', 'Caprino', 500)\n",
        "obj_2 = Supermarket('Migross', 'Caprino', 400)\n",
        "print(obj_1 == obj_2)\n",
        "```\n",
        "> True"
      ],
      "metadata": {
        "id": "eXiqAFEDM1S4"
      }
    },
    {
      "cell_type": "code",
      "source": [
        "#your code here"
      ],
      "metadata": {
        "id": "Zupu7yffOi85"
      },
      "execution_count": null,
      "outputs": []
    },
    {
      "cell_type": "markdown",
      "source": [
        "**Ex 5**: Write a function that takes a list of dictionaries as input and returns a list containing all the values from all the dictionaries, sorted in descending order.\n",
        "If the input is not of the correct type (a list of dictionaries), then print the string “WRONG INPUT TYPE” and exit the function.\n",
        "\n",
        "Example execution:\n",
        "\n",
        "```python\n",
        "ls = [{'a':1, 'b':2}, {'c':4}]\n",
        "fun(ls)\n",
        "```\n",
        "> [4, 2, 1]"
      ],
      "metadata": {
        "id": "MTD34ShFND8D"
      }
    },
    {
      "cell_type": "code",
      "source": [
        "#your code here"
      ],
      "metadata": {
        "id": "OTs6mP6rOjt-"
      },
      "execution_count": null,
      "outputs": []
    },
    {
      "cell_type": "markdown",
      "source": [
        "**Ex 6**: Write a function that takes two integers “a” and “b” as input, and generates a Numpy array of size aXb (rows X columns) that is formed by the numbers from 1 to a*b, in order (left to right).\n",
        "\n",
        "The function will then change all the even values in the array to -1 and return the resulting array.\n",
        "\n",
        "Example execution:\n",
        "\n",
        "```python\n",
        "a = 3\n",
        "b = 2\n",
        "fun(a,b)\n",
        "```\n",
        "> array([[ 1, -1],\n",
        "       [ 3, -1],\n",
        "       [ 5, -1]])"
      ],
      "metadata": {
        "id": "owwMGYvHNXn3"
      }
    },
    {
      "cell_type": "code",
      "source": [
        "#your code here"
      ],
      "metadata": {
        "id": "4LcHF-5xOlR1"
      },
      "execution_count": null,
      "outputs": []
    },
    {
      "cell_type": "markdown",
      "source": [
        "**Ex 7**: Write a function that takes a Numpy array of integers as input and returns a new array where every element of the even columns in the input array is substituted by the value -1.\n",
        "\n",
        "You must check the input for correctness.\n",
        "\n",
        "Example execution:\n",
        "\n",
        "```python\n",
        "arr = np.array([[1, 2, 3, 4],\n",
        "        [5, 6, 7, 8],\n",
        "        [9, 10, 11, 12],\n",
        "        [13, 14, 15, 16]])\n",
        "fun(arr)\n",
        "```\n",
        "> array([[-1,  2, -1,  4],\n",
        "       [-1,  6, -1,  8],\n",
        "       [-1, 10, -1, 12],\n",
        "       [-1, 14, -1, 16]])"
      ],
      "metadata": {
        "id": "BvKf0YfqNpj_"
      }
    },
    {
      "cell_type": "code",
      "source": [
        "#your code here"
      ],
      "metadata": {
        "id": "yZYMX_DmOmV2"
      },
      "execution_count": null,
      "outputs": []
    },
    {
      "cell_type": "markdown",
      "source": [
        "Ex 8: Write a function that takes a Numpy array of integers as input and returns a new array containing only the positive even integers.\n",
        "\n",
        "Do not use for loops, if statements and list comprehensions.\n",
        "\n",
        "Example execution:\n",
        "\n",
        "```python\n",
        "arr = np.array([-2, 3, 56, 12, -3])\n",
        "fun(arr)\n",
        "```\n",
        "> array([56, 12])"
      ],
      "metadata": {
        "id": "divPJXB6OooG"
      }
    },
    {
      "cell_type": "code",
      "source": [
        "#your code here"
      ],
      "metadata": {
        "id": "S48qLDcqN3hq"
      },
      "execution_count": null,
      "outputs": []
    },
    {
      "cell_type": "markdown",
      "source": [
        "Ex 9: Write a function that takes two Numpy arrays as input and returns their dot product. If any exception arises, print “AN EXCEPTION HAS ARISEN” and exit the function without showing the exception.\n",
        "\n",
        "Do not check the input for correctness.\n",
        "\n",
        "\n",
        "Example execution:\n",
        "```python\n",
        "arr = np.array([1,2,3,4])\n",
        "fun(arr, arr)\n",
        "```\n",
        "> 30"
      ],
      "metadata": {
        "id": "aDBBYTOPPAsB"
      }
    },
    {
      "cell_type": "code",
      "source": [
        "#your code here"
      ],
      "metadata": {
        "id": "pnn8YjuUPTSr"
      },
      "execution_count": null,
      "outputs": []
    },
    {
      "cell_type": "markdown",
      "source": [
        "**Ex 10**: Write a function that takes a Numpy array of integers as input and outputs the index of the row with the highest sum of elements.\n",
        "\n",
        "You must check the input for correctness.\n",
        "\n",
        "\n",
        "Example execution:\n",
        "```python\n",
        "arr = array([[ 0,  1,  2,  3],\n",
        "                 [ 4,  5,  6,  7],\n",
        "                 [ 8,  9, 10, 11],\n",
        "                 [12, 13, 14, 15]])\n",
        "fun(arr)\n",
        "```\n",
        "> 3"
      ],
      "metadata": {
        "id": "bCUjbP3PPjqD"
      }
    },
    {
      "cell_type": "code",
      "source": [
        "#your code here"
      ],
      "metadata": {
        "id": "BpF_rtUCPggT"
      },
      "execution_count": null,
      "outputs": []
    },
    {
      "cell_type": "markdown",
      "source": [
        "**Ex 11**: Take the two csv datasets and merge them into a unified DataFrame.\n",
        "\n",
        "With this unified DataFrame, remove all the rows with null values and eventual redundant columns.\n"
      ],
      "metadata": {
        "id": "Sw3E6TqRPxxu"
      }
    },
    {
      "cell_type": "code",
      "source": [
        "#your code here"
      ],
      "metadata": {
        "id": "xD2Zu-a6PxVT"
      },
      "execution_count": null,
      "outputs": []
    },
    {
      "cell_type": "markdown",
      "source": [
        "**Ex 12**: Use a lambda function to change all the column names of the DataFrame to lowercase strings where the spaces have been substituted by an underscore (“_”)."
      ],
      "metadata": {
        "id": "wiqOqTSiP_EQ"
      }
    },
    {
      "cell_type": "code",
      "source": [
        "#your code here"
      ],
      "metadata": {
        "id": "IR0IOJRGQEMy"
      },
      "execution_count": null,
      "outputs": []
    },
    {
      "cell_type": "markdown",
      "source": [
        "**Ex 13**: Perform the usual steps for Exploratory Data Analysis on the unified DataFrame and write what you think is interesting in a comment."
      ],
      "metadata": {
        "id": "OHLgxZQFQGOj"
      }
    },
    {
      "cell_type": "code",
      "source": [
        "#your code here"
      ],
      "metadata": {
        "id": "8S7XVLsFQFyz"
      },
      "execution_count": null,
      "outputs": []
    },
    {
      "cell_type": "markdown",
      "source": [
        "**Ex 14**: In the unified DataFrame, create a new column “name_surname” that contains the name and surname of the users. Remove the newly redundant columns."
      ],
      "metadata": {
        "id": "M5lSTaGhQM3x"
      }
    },
    {
      "cell_type": "code",
      "source": [
        "#your code here"
      ],
      "metadata": {
        "id": "eToULs8kQMaN"
      },
      "execution_count": null,
      "outputs": []
    },
    {
      "cell_type": "markdown",
      "source": [
        "**Ex 15**: Using pandas, find out which item has generated the most revenue (the amount of money it brought to the company). Bonus: using pandas, find which seller has sold the most of this Item."
      ],
      "metadata": {
        "id": "M6fbO1zkQTf9"
      }
    },
    {
      "cell_type": "code",
      "source": [
        "#your code here"
      ],
      "metadata": {
        "id": "AsstOl7yQWqy"
      },
      "execution_count": null,
      "outputs": []
    }
  ]
}